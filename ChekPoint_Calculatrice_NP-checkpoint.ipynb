{
 "cells": [
  {
   "cell_type": "code",
   "execution_count": 7,
   "id": "022cde29",
   "metadata": {},
   "outputs": [
    {
     "name": "stdout",
     "output_type": "stream",
     "text": [
      "Entrer le Nombre d'Etudiant: 3\n",
      "Entrer le Nombre de Matières Etudiées: 2\n",
      "Entrer la note de l'Etudiant N° 1 obtenue dans la Matière N° 1: 12\n",
      "Entrer la note de l'Etudiant N° 1 obtenue dans la Matière N° 2: 13\n",
      "Entrer la note de l'Etudiant N° 2 obtenue dans la Matière N° 1: 11\n",
      "Entrer la note de l'Etudiant N° 2 obtenue dans la Matière N° 2: 15\n",
      "Entrer la note de l'Etudiant N° 3 obtenue dans la Matière N° 1: 14\n",
      "Entrer la note de l'Etudiant N° 3 obtenue dans la Matière N° 2: 16\n",
      "\n",
      "\n",
      "Result:\n",
      "Etudiant   Total Points    Poucentage      Grade          \n",
      "Etudiant 1 25.0            12.5            F              \n",
      "Etudiant 2 26.0            13.0            F              \n",
      "Etudiant 3 30.0            15.0            F              \n"
     ]
    }
   ],
   "source": [
    "import numpy as np\n",
    "\n",
    "# Ask the user to enter the number of students and the number of subjects.\n",
    "num_students = int(input(\"Entrer le Nombre d'Etudiant: \"))\n",
    "num_subjects = int(input(\"Entrer le Nombre de Matières Etudiées: \"))\n",
    "\n",
    "# Create a Numpy array to store the marks of each student in each subject.\n",
    "marks = np.zeros((num_students, num_subjects))\n",
    "\n",
    "# Ask the user to enter the marks of each student in each subject.\n",
    "for i in range(num_students):\n",
    "    for j in range(num_subjects):\n",
    "        marks[i][j] = float(input(f\"Entrer la note de l'Etudiant N° {i+1} obtenue dans la Matière N° {j+1}: \"))\n",
    "\n",
    "# Calculate the total marks for each student using the sum() function of Numpy.\n",
    "total_marks = np.sum(marks, axis=1)\n",
    "\n",
    "# Calculate the percentage for each student using the total marks and the formula: percentage = (total marks / (number of subjects * 100)) * 100\n",
    "percentage = (total_marks / (num_subjects * 100)) * 100\n",
    "\n",
    "# Calculate the grade for each student using the percentage and the following grading system:\n",
    "# 90% or above: A+\n",
    "# 80% or above: A\n",
    "# 70% or above: B+\n",
    "# 60% or above: B\n",
    "# 50% or above: C\n",
    "# below 50%: F\n",
    "grade = []\n",
    "for i in range(num_students):\n",
    "    if percentage[i] >= 90:\n",
    "        grade.append(\"A+\")\n",
    "    elif percentage[i] >= 80:\n",
    "        grade.append(\"A\")\n",
    "    elif percentage[i] >= 70:\n",
    "        grade.append(\"B+\")\n",
    "    elif percentage[i] >= 60:\n",
    "        grade.append(\"B\")\n",
    "    elif percentage[i] >= 50:\n",
    "        grade.append(\"C\")\n",
    "    else:\n",
    "        grade.append(\"F\")\n",
    "\n",
    "# Display the result for each student in a tabular format with columns for student name, total marks, percentage, and grade.\n",
    "print(\"\\n\\nResult:\")\n",
    "print(\"{:<10} {:<15} {:<15} {:<15}\".format('Etudiant', 'Total Points', 'Poucentage', 'Grade'))\n",
    "for i in range(num_students):\n",
    "    print(\"{:<10} {:<15} {:<15} {:<15}\".format(f\"Etudiant {i+1}\", total_marks[i], percentage[i], grade[i]))"
   ]
  },
  {
   "cell_type": "code",
   "execution_count": null,
   "id": "02197bfc",
   "metadata": {},
   "outputs": [],
   "source": []
  },
  {
   "cell_type": "code",
   "execution_count": null,
   "id": "01cae9dd",
   "metadata": {},
   "outputs": [],
   "source": []
  },
  {
   "cell_type": "code",
   "execution_count": null,
   "id": "1e83ecc1",
   "metadata": {},
   "outputs": [],
   "source": []
  }
 ],
 "metadata": {
  "kernelspec": {
   "display_name": "Python 3 (ipykernel)",
   "language": "python",
   "name": "python3"
  },
  "language_info": {
   "codemirror_mode": {
    "name": "ipython",
    "version": 3
   },
   "file_extension": ".py",
   "mimetype": "text/x-python",
   "name": "python",
   "nbconvert_exporter": "python",
   "pygments_lexer": "ipython3",
   "version": "3.10.9"
  }
 },
 "nbformat": 4,
 "nbformat_minor": 5
}
