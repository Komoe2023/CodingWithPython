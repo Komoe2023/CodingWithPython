{
 "cells": [
  {
   "cell_type": "code",
   "execution_count": 8,
   "id": "198ba0c4",
   "metadata": {
    "scrolled": true
   },
   "outputs": [
    {
     "ename": "TclError",
     "evalue": "bad geometry specifier \"1200x800 + 600 + 200\"",
     "output_type": "error",
     "traceback": [
      "\u001b[1;31m---------------------------------------------------------------------------\u001b[0m",
      "\u001b[1;31mTclError\u001b[0m                                  Traceback (most recent call last)",
      "Cell \u001b[1;32mIn[8], line 41\u001b[0m\n\u001b[0;32m     38\u001b[0m root \u001b[38;5;241m=\u001b[39m tk\u001b[38;5;241m.\u001b[39mTk()\n\u001b[0;32m     40\u001b[0m \u001b[38;5;66;03m# setting geometry of tk window\u001b[39;00m\n\u001b[1;32m---> 41\u001b[0m \u001b[43mroot\u001b[49m\u001b[38;5;241;43m.\u001b[39;49m\u001b[43mgeometry\u001b[49m\u001b[43m(\u001b[49m\u001b[38;5;124;43m'\u001b[39;49m\u001b[38;5;124;43m1200x800 + 600 + 200\u001b[39;49m\u001b[38;5;124;43m'\u001b[39;49m\u001b[43m)\u001b[49m\n\u001b[0;32m     43\u001b[0m \u001b[38;5;66;03m# Using title() to display a message in the\u001b[39;00m\n\u001b[0;32m     44\u001b[0m \u001b[38;5;66;03m# dialogue box of the message in the title bar\u001b[39;00m\n\u001b[0;32m     45\u001b[0m root\u001b[38;5;241m.\u001b[39mtitle(\u001b[38;5;124m'\u001b[39m\u001b[38;5;124mTemperature Converter\u001b[39m\u001b[38;5;124m'\u001b[39m)\n",
      "File \u001b[1;32m~\\anaconda3\\lib\\tkinter\\__init__.py:2073\u001b[0m, in \u001b[0;36mWm.wm_geometry\u001b[1;34m(self, newGeometry)\u001b[0m\n\u001b[0;32m   2070\u001b[0m \u001b[38;5;28;01mdef\u001b[39;00m \u001b[38;5;21mwm_geometry\u001b[39m(\u001b[38;5;28mself\u001b[39m, newGeometry\u001b[38;5;241m=\u001b[39m\u001b[38;5;28;01mNone\u001b[39;00m):\n\u001b[0;32m   2071\u001b[0m     \u001b[38;5;124;03m\"\"\"Set geometry to NEWGEOMETRY of the form =widthxheight+x+y. Return\u001b[39;00m\n\u001b[0;32m   2072\u001b[0m \u001b[38;5;124;03m    current value if None is given.\"\"\"\u001b[39;00m\n\u001b[1;32m-> 2073\u001b[0m     \u001b[38;5;28;01mreturn\u001b[39;00m \u001b[38;5;28;43mself\u001b[39;49m\u001b[38;5;241;43m.\u001b[39;49m\u001b[43mtk\u001b[49m\u001b[38;5;241;43m.\u001b[39;49m\u001b[43mcall\u001b[49m\u001b[43m(\u001b[49m\u001b[38;5;124;43m'\u001b[39;49m\u001b[38;5;124;43mwm\u001b[39;49m\u001b[38;5;124;43m'\u001b[39;49m\u001b[43m,\u001b[49m\u001b[43m \u001b[49m\u001b[38;5;124;43m'\u001b[39;49m\u001b[38;5;124;43mgeometry\u001b[39;49m\u001b[38;5;124;43m'\u001b[39;49m\u001b[43m,\u001b[49m\u001b[43m \u001b[49m\u001b[38;5;28;43mself\u001b[39;49m\u001b[38;5;241;43m.\u001b[39;49m\u001b[43m_w\u001b[49m\u001b[43m,\u001b[49m\u001b[43m \u001b[49m\u001b[43mnewGeometry\u001b[49m\u001b[43m)\u001b[49m\n",
      "\u001b[1;31mTclError\u001b[0m: bad geometry specifier \"1200x800 + 600 + 200\""
     ]
    }
   ],
   "source": [
    "import tkinter as tk\n",
    "from tkinter import messagebox\n",
    "from functools import partial\n",
    " \n",
    " \n",
    "# Declaration of global variable\n",
    "temp_Val = \"Celsius\"\n",
    " \n",
    "# getting drop down value\n",
    "def store_temp(set_temp):\n",
    "    global temp_Val\n",
    "    temp_Val = set_temp\n",
    " \n",
    "# Conversion of  temperature\n",
    "def call_convert(rlabel1,  inputn):\n",
    "    temp = inputn.get()\n",
    "     \n",
    "    if temp_Val == 'Celsius':\n",
    "         \n",
    "        # Conversion of celsius temperature to fahrenheit\n",
    "        f = float((float(temp) * 9 / 5) + 32)\n",
    "        rlabel1.config(text =\"%.1f Fahrenheit\" % f)\n",
    "        messagebox.showinfo(\"Temperature Converter\",\n",
    "                            \"Successfully converted to Fahrenheit \", )\n",
    "         \n",
    "    if temp_Val == 'Fahrenheit':\n",
    "         \n",
    "        # Conversion of fahrenheit temperature\n",
    "        # to celsius\n",
    "        c = float((float(temp) - 32) * 5 / 9)\n",
    "        rlabel1.config(text =\"%.1f Celsius\" % c)\n",
    "        messagebox.showinfo(\"Temperature Converter\",\n",
    "                            \"Successfully converted to Celsius \")\n",
    "    return\n",
    " \n",
    " \n",
    "# creating Tk window\n",
    "root = tk.Tk()\n",
    " \n",
    "# setting geometry of tk window\n",
    "root.geometry('1200x800 + 600 + 200')\n",
    " \n",
    "# Using title() to display a message in the\n",
    "# dialogue box of the message in the title bar\n",
    "root.title('Temperature Converter')\n",
    " \n",
    "# Lay out widgets\n",
    "root.grid_columnconfigure(1, weight = 1)\n",
    "root.grid_rowconfigure(1, weight = 1)\n",
    " \n",
    "inputNumber = tk.StringVar()\n",
    "var = tk.StringVar()\n",
    " \n",
    "# label and entry field\n",
    "input_label = tk.Label(root, text =\"Enter temperature\")\n",
    "input_entry = tk.Entry(root, textvariable = inputNumber)\n",
    "input_label.grid(row = 1)\n",
    "input_entry.grid(row = 1, column = 1)\n",
    "result_label = tk.Label(root)\n",
    "result_label.grid(row = 3, columnspan = 4)\n",
    " \n",
    "# drop down setup\n",
    "dropDownList = [\"Celsius\", \"Fahrenheit\"]\n",
    "drop_down = tk.OptionMenu(root, var, *dropDownList,\n",
    "                          command = store_temp)\n",
    "var.set(dropDownList[0])\n",
    "drop_down.grid(row = 1, column = 2)\n",
    " \n",
    "# button widget\n",
    "call_convert = partial(call_convert, result_label,\n",
    "                       inputNumber)\n",
    "result_button = tk.Button(root, text =\"Convert\",\n",
    "                          command = call_convert)\n",
    "result_button.grid(row = 2, columnspan = 2)\n",
    " \n",
    "# infinite loop which is required to\n",
    "# run tkinter program infinitely\n",
    "# until an interrupt occurs\n",
    "root.mainloop()"
   ]
  },
  {
   "cell_type": "code",
   "execution_count": null,
   "id": "3957e81f",
   "metadata": {},
   "outputs": [],
   "source": []
  }
 ],
 "metadata": {
  "kernelspec": {
   "display_name": "Python 3 (ipykernel)",
   "language": "python",
   "name": "python3"
  },
  "language_info": {
   "codemirror_mode": {
    "name": "ipython",
    "version": 3
   },
   "file_extension": ".py",
   "mimetype": "text/x-python",
   "name": "python",
   "nbconvert_exporter": "python",
   "pygments_lexer": "ipython3",
   "version": "3.10.9"
  }
 },
 "nbformat": 4,
 "nbformat_minor": 5
}
