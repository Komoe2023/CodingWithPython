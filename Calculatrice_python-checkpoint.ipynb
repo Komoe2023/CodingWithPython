{
 "cells": [
  {
   "cell_type": "code",
   "execution_count": 1,
   "id": "7bb32a3c",
   "metadata": {},
   "outputs": [
    {
     "name": "stdout",
     "output_type": "stream",
     "text": [
      "Entrer le premier nombre: 34\n",
      "Entrer le second nombre: 65\n",
      "Operation: +, -, *, /\n",
      "Selectionne l'operation à mener: *\n",
      "34.0 * 65.0 = 2210.0\n"
     ]
    }
   ],
   "source": [
    "num1 = float(input(\"Entrer le premier nombre: \"))\n",
    "num2 = float(input(\"Entrer le second nombre: \"))\n",
    "print(\"Operation: +, -, *, /\")\n",
    "select = input(\"Selectionne l'operation à mener: \")\n",
    "\n",
    "# add(+) two numbers\n",
    "if select == \"+\":\n",
    "    print(num1, \"+\", num2, \"=\", num1+num2)\n",
    "\n",
    "# subtract(-) two numbers\n",
    "elif select == \"-\":\n",
    "    print(num1, \"-\", num2, \"=\", num1-num2)\n",
    "\n",
    "# multiplies(*) two numbers\n",
    "elif select == \"*\":\n",
    "    print(num1, \"*\", num2, \"=\", num1*num2)\n",
    "\n",
    "# divides(/) two numbers\n",
    "elif select == \"/\":\n",
    "    print(num1, \"/\", num2, \"=\", num1/num2)\n",
    "\n",
    "else:\n",
    "    print(\"Veuillez saisir un nombre valide\")"
   ]
  },
  {
   "cell_type": "code",
   "execution_count": null,
   "id": "617aaa8f",
   "metadata": {},
   "outputs": [],
   "source": []
  }
 ],
 "metadata": {
  "kernelspec": {
   "display_name": "Python 3 (ipykernel)",
   "language": "python",
   "name": "python3"
  },
  "language_info": {
   "codemirror_mode": {
    "name": "ipython",
    "version": 3
   },
   "file_extension": ".py",
   "mimetype": "text/x-python",
   "name": "python",
   "nbconvert_exporter": "python",
   "pygments_lexer": "ipython3",
   "version": "3.10.9"
  }
 },
 "nbformat": 4,
 "nbformat_minor": 5
}
