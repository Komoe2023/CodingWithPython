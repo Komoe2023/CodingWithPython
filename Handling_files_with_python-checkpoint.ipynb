{
 "cells": [
  {
   "cell_type": "markdown",
   "id": "f565b9cb",
   "metadata": {},
   "source": [
    "1. Write a Python program to read an entire text file."
   ]
  },
  {
   "cell_type": "code",
   "execution_count": 25,
   "id": "6318fa28",
   "metadata": {},
   "outputs": [
    {
     "name": "stdout",
     "output_type": "stream",
     "text": [
      "Enter N value: 4\n",
      "The following are the first 4 lines of a text file:\n"
     ]
    }
   ],
   "source": [
    "inputFile = \"D:/GoMyCode/python.txt\"\n",
    "\n",
    "# Enter N value\n",
    "N = int(input(\"Enter N value: \"))\n",
    "\n",
    "# Opening the given file in read-only mode\n",
    "with open(inputFile, 'r') as filedata:\n",
    "    linesList= filedata.readlines()\n",
    "print(\"The following are the first\",N,\"lines of a text file:\")\n",
    "    \n",
    "for textline in (linesList[:N]):\n",
    "\n",
    "# Printing the first N lines of the file line by line.\n",
    "    print(textline, end ='')\n",
    "\n",
    "# Closing the input file\n",
    "filedata.close()\n"
   ]
  },
  {
   "cell_type": "markdown",
   "id": "f2636712",
   "metadata": {},
   "source": [
    "Write a Python program to read the first n lines of a file."
   ]
  },
  {
   "cell_type": "code",
   "execution_count": null,
   "id": "0727d006",
   "metadata": {},
   "outputs": [],
   "source": []
  }
 ],
 "metadata": {
  "kernelspec": {
   "display_name": "Python 3 (ipykernel)",
   "language": "python",
   "name": "python3"
  },
  "language_info": {
   "codemirror_mode": {
    "name": "ipython",
    "version": 3
   },
   "file_extension": ".py",
   "mimetype": "text/x-python",
   "name": "python",
   "nbconvert_exporter": "python",
   "pygments_lexer": "ipython3",
   "version": "3.10.9"
  }
 },
 "nbformat": 4,
 "nbformat_minor": 5
}
