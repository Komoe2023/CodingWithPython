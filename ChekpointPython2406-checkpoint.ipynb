{
 "cells": [
  {
   "cell_type": "code",
   "execution_count": 1,
   "id": "dfc33da3",
   "metadata": {},
   "outputs": [
    {
     "name": "stdout",
     "output_type": "stream",
     "text": [
      "Welcome to Python world! Let's start coding\n"
     ]
    }
   ],
   "source": [
    "print (\"Welcome to Python world! Let's start coding\")"
   ]
  },
  {
   "cell_type": "markdown",
   "id": "53968346",
   "metadata": {},
   "source": [
    "Question 1 \n",
    "\n",
    "Write a Python program that multiplies all the items in a list.\n",
    "\n",
    "Sample list= [2, 3, 6]\n",
    "\n",
    "Result = 36"
   ]
  },
  {
   "cell_type": "code",
   "execution_count": 3,
   "id": "00fb837e",
   "metadata": {},
   "outputs": [
    {
     "name": "stdout",
     "output_type": "stream",
     "text": [
      "le resultat est 36\n"
     ]
    }
   ],
   "source": [
    "liste_1 = [2,3,6]\n",
    "result = 1\n",
    "for i in liste_1:\n",
    "    result = result * i\n",
    "print(\"le resultat est\", result)\n"
   ]
  },
  {
   "cell_type": "markdown",
   "id": "9eb1f08e",
   "metadata": {},
   "source": [
    "Question 2\n",
    "\n",
    "Write a Python program to get a list, sorted in increasing order by the last element in each tuple, from a given list of non-empty tuples.\n",
    "\n",
    "Sample List : [(2, 5), (1, 2), (4, 4), (2, 3), (2, 1)]\n",
    "\n",
    "Expected result : [(2, 1), (1, 2), (2, 3), (4, 4), (2, 5)]\n",
    "\n",
    "Hint: You can use the sort function."
   ]
  },
  {
   "cell_type": "code",
   "execution_count": 4,
   "id": "136a7d70",
   "metadata": {},
   "outputs": [
    {
     "name": "stdout",
     "output_type": "stream",
     "text": [
      "Sorted:\n",
      "[(2, 1), (1, 2), (2, 3), (4, 4), (2, 5)]\n"
     ]
    }
   ],
   "source": [
    "def last(n):\n",
    "    return n[-1] \n",
    "  \n",
    "def sort(tuples):\n",
    "    return sorted(tuples, key=last)\n",
    "  \n",
    "my_list = [(2, 5), (1, 2), (4, 4), (2, 3), (2, 1)]\n",
    "print(\"Sorted:\")\n",
    "print(sort(my_list))\n"
   ]
  },
  {
   "cell_type": "markdown",
   "id": "3c540b5e",
   "metadata": {},
   "source": [
    "Question 3 \n",
    "\n",
    "Write a Python program that combines two dictionaries by adding values for common keys.\n",
    "\n",
    "d1 = {'a': 100, 'b': 200, 'c':300}\n",
    "\n",
    "d2 = {'a': 300, 'b': 200, 'd':400}\n",
    "\n",
    "Expected result: {'a': 400, 'b': 400, 'd': 400, 'c': 300}"
   ]
  },
  {
   "cell_type": "code",
   "execution_count": 5,
   "id": "9fb49030",
   "metadata": {},
   "outputs": [
    {
     "name": "stdout",
     "output_type": "stream",
     "text": [
      "{'a': 400, 'b': 400, 'c': 300, 'd': 400}\n"
     ]
    }
   ],
   "source": [
    "d1 = {'a': 100, 'b': 200, 'c':300}\n",
    "d2 = {'a': 300, 'b': 200, 'd':400}\n",
    "for key in d2:\n",
    "    if key in d1:\n",
    "        d2[key] = d2[key] + d1[key]\n",
    "    else:\n",
    "        pass\n",
    "res = d1 | d2\n",
    "print(res)"
   ]
  },
  {
   "cell_type": "markdown",
   "id": "a3751c2a",
   "metadata": {},
   "source": [
    "Question 4\n",
    "\n",
    "With a given integral number n, write a program to generate a dictionary that contains (i, i*i) so that is an integral number between 1 and n (both included). Then the program should print the dictionary. Suppose the following input is supplied to the program: 8. Then, the output should be: {1: 1, 2: 4, 3: 9, 4: 16, 5: 25, 6: 36, 7: 49, 8: 64}"
   ]
  },
  {
   "cell_type": "code",
   "execution_count": 6,
   "id": "f464f4cc",
   "metadata": {},
   "outputs": [
    {
     "name": "stdout",
     "output_type": "stream",
     "text": [
      "8\n",
      "{1: 1, 2: 4, 3: 9, 4: 16, 5: 25, 6: 36, 7: 49, 8: 64}\n"
     ]
    }
   ],
   "source": [
    "n=int(input())\n",
    "d = {}\n",
    "for i in range(1,n+1):\n",
    "    a=i*i\n",
    "    d[i] = a\n",
    "print(d)\n"
   ]
  },
  {
   "cell_type": "markdown",
   "id": "21961756",
   "metadata": {},
   "source": [
    "Question 5\n",
    "\n",
    "Write a program to sort a tuple by its float element.\n",
    "\n",
    "For example: list= [('item1', '12.20'), ('item2', '15.10'), ('item3', '24.5')]\n",
    "\n",
    "Expected result: [('item3', '24.5'), ('item2', '15.10'), ('item1', '12.20')]"
   ]
  },
  {
   "cell_type": "code",
   "execution_count": 7,
   "id": "ad369125",
   "metadata": {},
   "outputs": [
    {
     "name": "stdout",
     "output_type": "stream",
     "text": [
      "[('item3', '24.5'), ('item2', '15.10'), ('item1', '12.20')]\n"
     ]
    }
   ],
   "source": [
    "def sort(tuple):\n",
    "# sorting in descending order by setting reverse as true using float elements\n",
    "   list.sort(key = lambda x: float(x[1]), reverse = True)\n",
    "   print(list)\n",
    "# The driver Code\n",
    "list= [('item1', '12.20'), ('item2', '15.10'), ('item3', '24.5')]\n",
    "sort(list)"
   ]
  },
  {
   "cell_type": "markdown",
   "id": "5cea30ce",
   "metadata": {},
   "source": [
    "Question 6\n",
    "\n",
    "Write a Python program to create a set.\n",
    "\n",
    "Examples : {0, 1, 2, 3, 4}\n",
    "\n",
    "Write a Python program to iteration over sets.\n",
    "\n",
    "Write a Python program to add members in a set and to remove items from a given set."
   ]
  },
  {
   "cell_type": "code",
   "execution_count": 8,
   "id": "7acfe0e3",
   "metadata": {},
   "outputs": [
    {
     "name": "stdout",
     "output_type": "stream",
     "text": [
      "{0, 1, 2, 3, 4}\n"
     ]
    }
   ],
   "source": [
    "s = {0, 1, 2, 3, 4}\n",
    "print (s)"
   ]
  },
  {
   "cell_type": "code",
   "execution_count": 11,
   "id": "34cbc347",
   "metadata": {},
   "outputs": [
    {
     "name": "stdout",
     "output_type": "stream",
     "text": [
      "E\n",
      "M\n",
      "K\n",
      "O\n"
     ]
    }
   ],
   "source": [
    "# Creating a set using string\n",
    "test_set = set(\"KOMOE\")\n",
    " \n",
    "# Iterating using for loop\n",
    "for val in test_set:\n",
    "    print(val)"
   ]
  },
  {
   "cell_type": "code",
   "execution_count": 12,
   "id": "28506393",
   "metadata": {},
   "outputs": [
    {
     "name": "stdout",
     "output_type": "stream",
     "text": [
      "Définir après l'ajout d'éléments : {1, 2, 3}\n",
      "Définir après la suppression d'éléments : {1, 3}\n"
     ]
    }
   ],
   "source": [
    "# Create an empty set\n",
    "my_set = set()\n",
    "\n",
    "# Add elements to the set\n",
    "my_set.add(1)\n",
    "my_set.add(2)\n",
    "my_set.add(3)\n",
    "\n",
    "print(\"Définir après l'ajout d'éléments :\", my_set)\n",
    "\n",
    "# Remove elements from the set\n",
    "my_set.discard(2)\n",
    "\n",
    "print(\"Définir après la suppression d'éléments :\", my_set)"
   ]
  },
  {
   "cell_type": "code",
   "execution_count": null,
   "id": "09daa9a4",
   "metadata": {},
   "outputs": [],
   "source": []
  }
 ],
 "metadata": {
  "kernelspec": {
   "display_name": "Python 3 (ipykernel)",
   "language": "python",
   "name": "python3"
  },
  "language_info": {
   "codemirror_mode": {
    "name": "ipython",
    "version": 3
   },
   "file_extension": ".py",
   "mimetype": "text/x-python",
   "name": "python",
   "nbconvert_exporter": "python",
   "pygments_lexer": "ipython3",
   "version": "3.10.9"
  }
 },
 "nbformat": 4,
 "nbformat_minor": 5
}
