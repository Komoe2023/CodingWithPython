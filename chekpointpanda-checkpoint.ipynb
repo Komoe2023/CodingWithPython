{
 "cells": [
  {
   "cell_type": "code",
   "execution_count": 1,
   "id": "b9717b8b",
   "metadata": {},
   "outputs": [
    {
     "name": "stdout",
     "output_type": "stream",
     "text": [
      "        name  score  attempts qualify\n",
      "a  Anastasia   12.5         1     yes\n",
      "b       Dima    9.0         3      no\n",
      "c  Katherine   16.5         2     yes\n",
      "d      James    NaN         3      no\n",
      "e      Emily    9.0         2      no\n",
      "f    Michael   20.0         3     yes\n",
      "g    Matthew   14.5         1     yes\n",
      "h      Laura    NaN         1      no\n",
      "i      Kevin    8.0         2      no\n",
      "j      Jonas   19.0         1     yes\n"
     ]
    }
   ],
   "source": [
    "import pandas as pd\n",
    "import numpy as np\n",
    "\n",
    "exam_data  = {'name': ['Anastasia', 'Dima', 'Katherine', 'James', 'Emily', 'Michael', 'Matthew', 'Laura', 'Kevin', 'Jonas'],\n",
    "        'score': [12.5, 9, 16.5, np.nan, 9, 20, 14.5, np.nan, 8, 19],\n",
    "        'attempts': [1, 3, 2, 3, 2, 3, 1, 1, 2, 1],\n",
    "        'qualify': ['yes', 'no', 'yes', 'no', 'no', 'yes', 'yes', 'no', 'no', 'yes']}\n",
    "labels = ['a', 'b', 'c', 'd', 'e', 'f', 'g', 'h', 'i', 'j']\n",
    "\n",
    "df = pd.DataFrame(exam_data , index=labels)\n",
    "print(df)\n"
   ]
  },
  {
   "cell_type": "markdown",
   "id": "5b2a7620",
   "metadata": {},
   "source": [
    "Print the three first rows using the head() method.\n"
   ]
  },
  {
   "cell_type": "code",
   "execution_count": 2,
   "id": "7d277f90",
   "metadata": {},
   "outputs": [
    {
     "name": "stdout",
     "output_type": "stream",
     "text": [
      "        name  score  attempts qualify\n",
      "a  Anastasia   12.5         1     yes\n",
      "b       Dima    9.0         3      no\n",
      "c  Katherine   16.5         2     yes\n"
     ]
    }
   ],
   "source": [
    "df = df.head(3)\n",
    "  \n",
    "# show the dataframe\n",
    "print(df)"
   ]
  },
  {
   "cell_type": "markdown",
   "id": "78957851",
   "metadata": {},
   "source": [
    "Extract the 'name' and 'score' columns from the DataFrame."
   ]
  },
  {
   "cell_type": "code",
   "execution_count": 6,
   "id": "eec59608",
   "metadata": {},
   "outputs": [
    {
     "name": "stdout",
     "output_type": "stream",
     "text": [
      "Sélection des colonne spécifiques:\n",
      "        name  score\n",
      "a  Anastasia   12.5\n",
      "b       Dima    9.0\n",
      "c  Katherine   16.5\n",
      "d      James    NaN\n",
      "e      Emily    9.0\n",
      "f    Michael   20.0\n",
      "g    Matthew   14.5\n",
      "h      Laura    NaN\n",
      "i      Kevin    8.0\n",
      "j      Jonas   19.0\n"
     ]
    }
   ],
   "source": [
    "df = pd.DataFrame(exam_data , index=labels)\n",
    "print(\"Sélection des colonne spécifiques:\")\n",
    "print(df[['name', 'score']])\n"
   ]
  },
  {
   "cell_type": "markdown",
   "id": "9da24aa8",
   "metadata": {},
   "source": [
    "Write a Pandas program to append a new row 'k' to the DataFrame with these values (name: \"Suresh\", score: 15.5, attempts: 1, qualify: \"yes\")."
   ]
  },
  {
   "cell_type": "code",
   "execution_count": 7,
   "id": "e9dfa4ad",
   "metadata": {},
   "outputs": [
    {
     "name": "stdout",
     "output_type": "stream",
     "text": [
      "Original DataFrame:\n",
      "        name  score  attempts qualify\n",
      "0      Ankit   12.5         1     yes\n",
      "1       Amit    9.0         3      no\n",
      "2  Aishwarya   16.5         2     yes\n",
      "3   Priyanka   10.0         3      no\n",
      "4     Jivika   14.5         2     yes\n",
      "\n",
      "New row added to DataFrame:\n",
      "        name  score  attempts qualify\n",
      "0      Ankit   12.5         1     yes\n",
      "1       Amit    9.0         3      no\n",
      "2  Aishwarya   16.5         2     yes\n",
      "3   Priyanka   10.0         3      no\n",
      "4     Jivika   14.5         2     yes\n",
      "5     Suresh   15.5         1     yes\n"
     ]
    }
   ],
   "source": [
    "import pandas as pd\n",
    "\n",
    "data = {'name': ['Ankit', 'Amit', 'Aishwarya', 'Priyanka', 'Jivika'],\n",
    "        'score': [12.5, 9, 16.5, 10, 14.5],\n",
    "        'attempts': [1, 3, 2, 3, 2],\n",
    "        'qualify': ['yes', 'no', 'yes', 'no', 'yes']}\n",
    "df = pd.DataFrame(data)\n",
    "print(\"Original DataFrame:\")\n",
    "print(df)\n",
    "\n",
    "df.loc[len(df.index)] = [\"Suresh\", 15.5, 1, \"yes\"]\n",
    "print(\"\\nNew row added to DataFrame:\")\n",
    "print(df)"
   ]
  },
  {
   "cell_type": "markdown",
   "id": "cd3cfcca",
   "metadata": {},
   "source": [
    "Write a Pandas program to delete the 'attempts' column from the DataFrame."
   ]
  },
  {
   "cell_type": "code",
   "execution_count": 8,
   "id": "41c7c1a9",
   "metadata": {},
   "outputs": [
    {
     "name": "stdout",
     "output_type": "stream",
     "text": [
      "Original DataFrame:\n",
      "    name  score  attempts\n",
      "0   John     95         1\n",
      "1   Mary     80         3\n",
      "2  Peter     85         2\n",
      "3   Jeff     90         3\n",
      "4   Bill     75         2\n",
      "\n",
      "DataFrame after deleting 'attempts' column:\n",
      "    name  score\n",
      "0   John     95\n",
      "1   Mary     80\n",
      "2  Peter     85\n",
      "3   Jeff     90\n",
      "4   Bill     75\n"
     ]
    }
   ],
   "source": [
    "import pandas as pd\n",
    "\n",
    "data = {'name': ['John', 'Mary', 'Peter', 'Jeff', 'Bill'],\n",
    "        'score': [95, 80, 85, 90, 75],\n",
    "        'attempts': [1, 3, 2, 3, 2]}\n",
    "\n",
    "df = pd.DataFrame(data)\n",
    "\n",
    "print(\"Original DataFrame:\")\n",
    "print(df)\n",
    "\n",
    "df.drop('attempts', axis=1, inplace=True)\n",
    "\n",
    "print(\"\\nDataFrame after deleting 'attempts' column:\")\n",
    "print(df)"
   ]
  },
  {
   "cell_type": "markdown",
   "id": "7ee09f26",
   "metadata": {},
   "source": [
    "Add a new column \"Success\": if the score is higher than 10 we will have 1, else we will have 0."
   ]
  },
  {
   "cell_type": "code",
   "execution_count": 12,
   "id": "9b57c9ea",
   "metadata": {},
   "outputs": [],
   "source": [
    "df['Success'] = df['score'].apply(lambda x: 1 if x > 10 else 0)"
   ]
  },
  {
   "cell_type": "markdown",
   "id": "c9e69420",
   "metadata": {},
   "source": [
    "After executing the final DataFrame, export it into a CSV file named \"my_data\"."
   ]
  },
  {
   "cell_type": "code",
   "execution_count": 13,
   "id": "b4141ebd",
   "metadata": {},
   "outputs": [],
   "source": [
    "df.to_csv(r'C:\\Users\\pc\\OneDrive\\Documents\\Python Scripts\\my_data.csv', index=False)"
   ]
  },
  {
   "cell_type": "code",
   "execution_count": null,
   "id": "a14459e5",
   "metadata": {},
   "outputs": [],
   "source": []
  }
 ],
 "metadata": {
  "kernelspec": {
   "display_name": "Python 3 (ipykernel)",
   "language": "python",
   "name": "python3"
  },
  "language_info": {
   "codemirror_mode": {
    "name": "ipython",
    "version": 3
   },
   "file_extension": ".py",
   "mimetype": "text/x-python",
   "name": "python",
   "nbconvert_exporter": "python",
   "pygments_lexer": "ipython3",
   "version": "3.10.9"
  }
 },
 "nbformat": 4,
 "nbformat_minor": 5
}
